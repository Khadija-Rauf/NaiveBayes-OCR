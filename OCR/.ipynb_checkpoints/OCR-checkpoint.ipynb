{
 "cells": [
  {
   "cell_type": "code",
   "execution_count": 1,
   "id": "55ea5650",
   "metadata": {},
   "outputs": [],
   "source": [
    "import numpy as np\n",
    "from matplotlib import pyplot as plt\n",
    "import math\n",
    "%matplotlib inline"
   ]
  },
  {
   "cell_type": "code",
   "execution_count": 2,
   "id": "9c64bc53",
   "metadata": {},
   "outputs": [],
   "source": [
    "trainX = np.loadtxt(\"trainX.txt\",dtype=int)\n",
    "trainY = np.loadtxt(\"trainY.txt\",dtype=int)\n",
    "testX =  np.loadtxt(\"testX.txt\",dtype=int)\n",
    "testY =  np.loadtxt(\"testY.txt\",dtype=int)"
   ]
  },
  {
   "cell_type": "code",
   "execution_count": 3,
   "id": "d1a93666",
   "metadata": {},
   "outputs": [],
   "source": [
    "total = 500\n",
    "t = total - 250\n",
    "f = total - t\n",
    "pixelValue = 256\n",
    "pTwo = t/total\n",
    "pFour = f/total\n",
    "\n",
    "twos = trainX[:t,:]\n",
    "fours = trainX[f:,:]"
   ]
  },
  {
   "cell_type": "code",
   "execution_count": 4,
   "id": "f1ebee6c",
   "metadata": {},
   "outputs": [],
   "source": [
    "twosProbOne = (twos.sum(axis=0)+1)/(twos.shape[0]+2)\n",
    "twosProb = 1 - twosProbOne\n",
    "foursProbOne = (fours.sum(axis=0)+1)/(fours.shape[0]+2)\n",
    "foursProb = 1 - foursProbOne"
   ]
  },
  {
   "cell_type": "code",
   "execution_count": 5,
   "id": "bdd64736",
   "metadata": {},
   "outputs": [
    {
     "name": "stdout",
     "output_type": "stream",
     "text": [
      "Twos predicted: 50\n",
      "Fours predicted: 50\n",
      "Accuracy: 100.0 %\n"
     ]
    }
   ],
   "source": [
    "#Applying Naive Bays Algorithm\n",
    "nf =0\n",
    "nt =0\n",
    "count = 0\n",
    "predicted = 0\n",
    "for num in range(len(testX)):\n",
    "    FinalTwoProb = 1 * pTwo\n",
    "    FinalFourProb = 1 * pFour\n",
    "    for val in range(pixelValue):\n",
    "        if testX[num][val] == 1:\n",
    "            FinalTwoProb = FinalTwoProb * twosProbOne[val]\n",
    "            FinalFourProb = FinalFourProb * foursProbOne[val]\n",
    "        else:\n",
    "            FinalTwoProb = FinalTwoProb * twosProb[val]\n",
    "            FinalFourProb = FinalFourProb * foursProb[val]\n",
    "    if FinalTwoProb >= FinalFourProb:\n",
    "        predicted = 2\n",
    "        nt = nt  + 1\n",
    "        img = np.reshape(testX[num], (16,16), order='F')\n",
    "#         plt.imshow(img)  # to print images of 2 \n",
    "#         plt.show()\n",
    "    else:\n",
    "        predicted = 4\n",
    "        nf = nf + 1\n",
    "        img = np.reshape(testX[num], (16,16), order='F')\n",
    "#         plt.imshow(img) # to print images of 4\n",
    "#         plt.show()\n",
    "    if predicted == testY[num]:\n",
    "        count = count+1\n",
    "accuracy = (count / 100) * 100\n",
    "print(\"Twos predicted:\",nt)\n",
    "print(\"Fours predicted:\",nf)  \n",
    "print(\"Accuracy:\",accuracy,\"%\")  "
   ]
  }
 ],
 "metadata": {
  "kernelspec": {
   "display_name": "Python 3 (ipykernel)",
   "language": "python",
   "name": "python3"
  },
  "language_info": {
   "codemirror_mode": {
    "name": "ipython",
    "version": 3
   },
   "file_extension": ".py",
   "mimetype": "text/x-python",
   "name": "python",
   "nbconvert_exporter": "python",
   "pygments_lexer": "ipython3",
   "version": "3.9.12"
  }
 },
 "nbformat": 4,
 "nbformat_minor": 5
}
